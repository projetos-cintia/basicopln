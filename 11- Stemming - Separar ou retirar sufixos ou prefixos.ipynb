{
 "cells": [
  {
   "cell_type": "code",
   "execution_count": 1,
   "metadata": {},
   "outputs": [
    {
     "name": "stdout",
     "output_type": "stream",
     "text": [
      "\n",
      "PorterStemmer\n",
      "cook\n",
      "cookeri\n"
     ]
    }
   ],
   "source": [
    "# Stemming\n",
    "\n",
    "# Stemming é a técnica de remover sufixos e prefixos de uma palavra, chamada stem. \n",
    "# Por exemplo, o stem da palavra cooking é cook. Um bom algoritmo sabe que \"ing\" é um sufixo e pode ser removido. \n",
    "# Stemming é muito usado em mecanismos de buscas para indexação de palavras. \n",
    "# Ao invés de armazenar todas as formas de uma palavras, um mecamismo de busca armazena apenas o stem da palavra, \n",
    "# reduzindo o tamanho do índice e aumentando a performance do processo de busca.\n",
    "\n",
    "# Import\n",
    "from nltk.stem import PorterStemmer\n",
    "from nltk.stem import LancasterStemmer\n",
    "from nltk.stem import RegexpStemmer\n",
    "from nltk.stem import SnowballStemmer\n",
    "\n",
    "# Cria o Stemmer\n",
    "stemmer = PorterStemmer()\n",
    "\n",
    "# Aplica o Stemmer\n",
    "print(\"\\nPorterStemmer\")\n",
    "print(stemmer.stem('cooking'))\n",
    "print(stemmer.stem('cookery'))"
   ]
  },
  {
   "cell_type": "code",
   "execution_count": 2,
   "metadata": {},
   "outputs": [
    {
     "name": "stdout",
     "output_type": "stream",
     "text": [
      "\n",
      "LancasterStemmer\n",
      "cook\n",
      "cookery\n"
     ]
    }
   ],
   "source": [
    "# Cria o Stemmer\n",
    "stemmer2 = LancasterStemmer()\n",
    "\n",
    "# Aplica o Stemmer\n",
    "print(\"\\nLancasterStemmer\")\n",
    "print(stemmer2.stem('cooking'))\n",
    "print(stemmer2.stem('cookery'))"
   ]
  },
  {
   "cell_type": "code",
   "execution_count": 4,
   "metadata": {},
   "outputs": [
    {
     "name": "stdout",
     "output_type": "stream",
     "text": [
      "\n",
      "RegexpStemmer\n",
      "cook\n",
      "cookery\n"
     ]
    }
   ],
   "source": [
    "# Cria o Stemmer, para retirar uma palavra especifica\n",
    "stemmer3 = RegexpStemmer('ing')\n",
    "\n",
    "# Aplica o Stemmer\n",
    "print(\"\\nRegexpStemmer\")\n",
    "print(stemmer3.stem('cooking'))\n",
    "print(stemmer3.stem('cookery'))"
   ]
  },
  {
   "cell_type": "code",
   "execution_count": 5,
   "metadata": {},
   "outputs": [
    {
     "name": "stdout",
     "output_type": "stream",
     "text": [
      "\n",
      "SnowballStemmer\n",
      "tudo b\n"
     ]
    }
   ],
   "source": [
    "# Cria o Stemmer\n",
    "SnowballStemmer.languages\n",
    "portuguese_stemmer = SnowballStemmer('portuguese')\n",
    "print(\"\\nSnowballStemmer\")\n",
    "print(portuguese_stemmer.stem('Tudo bem'))"
   ]
  },
  {
   "cell_type": "code",
   "execution_count": 9,
   "metadata": {},
   "outputs": [
    {
     "name": "stdout",
     "output_type": "stream",
     "text": [
      "signific\n"
     ]
    }
   ],
   "source": [
    "print(portuguese_stemmer.stem('significado'))"
   ]
  },
  {
   "cell_type": "code",
   "execution_count": null,
   "metadata": {},
   "outputs": [],
   "source": []
  }
 ],
 "metadata": {
  "kernelspec": {
   "display_name": "Python 3",
   "language": "python",
   "name": "python3"
  },
  "language_info": {
   "codemirror_mode": {
    "name": "ipython",
    "version": 3
   },
   "file_extension": ".py",
   "mimetype": "text/x-python",
   "name": "python",
   "nbconvert_exporter": "python",
   "pygments_lexer": "ipython3",
   "version": "3.8.5"
  }
 },
 "nbformat": 4,
 "nbformat_minor": 4
}
