{
 "cells": [
  {
   "cell_type": "code",
   "execution_count": 1,
   "metadata": {},
   "outputs": [
    {
     "name": "stdout",
     "output_type": "stream",
     "text": [
      "\n",
      "Categorias no Corpus:\n",
      "['adventure', 'belles_lettres', 'editorial', 'fiction', 'government', 'hobbies', 'humor', 'learned', 'lore', 'mystery', 'news', 'religion', 'reviews', 'romance', 'science_fiction']\n"
     ]
    }
   ],
   "source": [
    "# Extraindo a Distribuição de Frequência de Palavras de um Corpus\n",
    "\n",
    "# Imports\n",
    "import nltk\n",
    "from nltk.corpus import brown\n",
    "\n",
    "# Imprimindo as categorias\n",
    "print(\"\\nCategorias no Corpus:\")\n",
    "print(brown.categories())\n",
    "\n"
   ]
  },
  {
   "cell_type": "code",
   "execution_count": 2,
   "metadata": {},
   "outputs": [
    {
     "name": "stdout",
     "output_type": "stream",
     "text": [
      "\n",
      "\n",
      "Analisando 'fiction' e extraindo palavras com sufixo wh\n",
      "what: 128 which: 123 why: 18 when: 133 where: 76 who: 103 \n",
      "\n",
      "Analisando 'humor' e extraindo palavras com sufixo wh\n",
      "what: 36 which: 62 why: 9 when: 52 where: 15 who: 48 \n",
      "\n",
      "Analisando 'romance' e extraindo palavras com sufixo wh\n",
      "what: 121 which: 104 why: 34 when: 126 where: 54 who: 89 \n",
      "\n"
     ]
    }
   ],
   "source": [
    "# Lista com algumas das categorias\n",
    "genres = ['fiction', 'humor', 'romance']\n",
    "\n",
    "# Palavras começando com o sufixo wh\n",
    "whwords = ['what', 'which', 'why', 'when', 'where', 'who']\n",
    "\n",
    "# Calculando a Distribuição de Frequência com a função FreqDist()\n",
    "for i in range(0,len(genres)):\n",
    "    genre = genres[i]\n",
    "    print()\n",
    "    #pega primeiro um genero, dentro das categorias escolhidas na variavel genre\n",
    "    print(\"\\nAnalisando '\"+ genre + \"' e extraindo palavras com sufixo wh\")\n",
    "    genre_text = brown.words(categories = genre)\n",
    "    fdist = nltk.FreqDist(genre_text)\n",
    "    #Aqui ele vai imprimir a frenquencia de cada uma dessas: whwords = ['what', 'which', 'why', 'when', 'where', 'who']\n",
    "    for wh in whwords:\n",
    "        print(wh + ':', fdist[wh], end=' ')\n",
    "\n",
    "print(\"\\n\")"
   ]
  },
  {
   "cell_type": "code",
   "execution_count": null,
   "metadata": {},
   "outputs": [],
   "source": []
  }
 ],
 "metadata": {
  "kernelspec": {
   "display_name": "Python 3",
   "language": "python",
   "name": "python3"
  },
  "language_info": {
   "codemirror_mode": {
    "name": "ipython",
    "version": 3
   },
   "file_extension": ".py",
   "mimetype": "text/x-python",
   "name": "python",
   "nbconvert_exporter": "python",
   "pygments_lexer": "ipython3",
   "version": "3.8.5"
  }
 },
 "nbformat": 4,
 "nbformat_minor": 4
}
