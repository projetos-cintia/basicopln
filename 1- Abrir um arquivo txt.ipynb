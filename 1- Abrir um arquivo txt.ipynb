{
 "cells": [
  {
   "cell_type": "markdown",
   "metadata": {},
   "source": [
    "# Fazer a leitura de um arquivo TXT"
   ]
  },
  {
   "cell_type": "code",
   "execution_count": 1,
   "metadata": {},
   "outputs": [],
   "source": [
    "import os"
   ]
  },
  {
   "cell_type": "code",
   "execution_count": 2,
   "metadata": {},
   "outputs": [
    {
     "name": "stdout",
     "output_type": "stream",
     "text": [
      "Ainda pior que a convicÃ§Ã£o do nÃ£o e a incerteza do talvez Ã© a desilusÃ£o de um quase. Ã‰ o quase que me incomoda, que me entristece, que me mata trazendo tudo que poderia ter sido e nÃ£o foi. Quem quase ganhou ainda joga, quem quase passou ainda estuda, quem quase morreu estÃ¡ vivo, quem quase amou nÃ£o amou. Basta pensar nas oportunidades que escaparam pelos dedos, nas chances que se perdem por medo, nas ideias que nunca sairÃ£o do papel por essa maldita mania de viver no outono. \n"
     ]
    }
   ],
   "source": [
    "# Fazendo a leitura de um arquivo se texto\n",
    "with open(os.path.join(\"data\", \"frases.txt\"), \"r\") as f:\n",
    "    text = f.read()\n",
    "    print(text)"
   ]
  },
  {
   "cell_type": "markdown",
   "metadata": {},
   "source": []
  },
  {
   "cell_type": "code",
   "execution_count": null,
   "metadata": {},
   "outputs": [],
   "source": []
  }
 ],
 "metadata": {
  "kernelspec": {
   "display_name": "Python 3",
   "language": "python",
   "name": "python3"
  },
  "language_info": {
   "codemirror_mode": {
    "name": "ipython",
    "version": 3
   },
   "file_extension": ".py",
   "mimetype": "text/x-python",
   "name": "python",
   "nbconvert_exporter": "python",
   "pygments_lexer": "ipython3",
   "version": "3.8.5"
  }
 },
 "nbformat": 4,
 "nbformat_minor": 4
}
