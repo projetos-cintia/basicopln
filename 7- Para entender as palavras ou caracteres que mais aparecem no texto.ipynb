{
 "cells": [
  {
   "cell_type": "code",
   "execution_count": 1,
   "metadata": {},
   "outputs": [
    {
     "name": "stdout",
     "output_type": "stream",
     "text": [
      "\n",
      "\n",
      "['firefox.txt', 'grail.txt', 'overheard.txt', 'pirates.txt', 'singles.txt', 'wine.txt']\n"
     ]
    }
   ],
   "source": [
    "# Explorando Distribuição de Frequência em Dados de Chat\n",
    "\n",
    "# Imports\n",
    "import nltk\n",
    "from nltk.corpus import webtext\n",
    "\n",
    "# Fileids\n",
    "print(\"\\n\")\n",
    "print(webtext.fileids())\n",
    "\n"
   ]
  },
  {
   "cell_type": "code",
   "execution_count": 5,
   "metadata": {},
   "outputs": [],
   "source": [
    "# Distribuição de frequência de um único arquivo\n",
    "fileid = 'singles.txt'\n",
    "wbt_words = webtext.words(fileid)\n",
    "fdist = nltk.FreqDist(wbt_words)"
   ]
  },
  {
   "cell_type": "code",
   "execution_count": 6,
   "metadata": {},
   "outputs": [
    {
     "data": {
      "text/plain": [
       "['25', 'SEXY', 'MALE', ',', 'seeks', 'attrac', 'older', ...]"
      ]
     },
     "execution_count": 6,
     "metadata": {},
     "output_type": "execute_result"
    }
   ],
   "source": [
    "wbt_words"
   ]
  },
  {
   "cell_type": "code",
   "execution_count": 7,
   "metadata": {},
   "outputs": [
    {
     "data": {
      "text/plain": [
       "FreqDist({',': 539, '.': 353, '/': 110, 'for': 99, 'and': 74, 'to': 74, 'lady': 68, '-': 66, 'seeks': 60, 'a': 52, ...})"
      ]
     },
     "execution_count": 7,
     "metadata": {},
     "output_type": "execute_result"
    }
   ],
   "source": [
    "#quantas vezes aparaceu cada palavra\n",
    "fdist"
   ]
  },
  {
   "cell_type": "code",
   "execution_count": 3,
   "metadata": {},
   "outputs": [
    {
     "name": "stdout",
     "output_type": "stream",
     "text": [
      "\n",
      "Contagem do número máximo de ocorrências do token \" , \" :  539\n",
      "\n",
      "Número total de tokens distintos :  4867\n",
      "\n",
      "A seguir estão os 10 tokens mais comuns\n",
      "[(',', 539), ('.', 353), ('/', 110), ('for', 99), ('and', 74), ('to', 74), ('lady', 68), ('-', 66), ('seeks', 60), ('a', 52)]\n",
      "\n",
      "\n"
     ]
    }
   ],
   "source": [
    "# Report\n",
    "print('\\nContagem do número máximo de ocorrências do token \"',fdist.max(),'\" : ', fdist[fdist.max()])\n",
    "print('\\nNúmero total de tokens distintos : ', fdist.N())\n",
    "print('\\nA seguir estão os 10 tokens mais comuns')\n",
    "print(fdist.most_common(10))\n",
    "print(\"\\n\")"
   ]
  },
  {
   "cell_type": "code",
   "execution_count": null,
   "metadata": {},
   "outputs": [],
   "source": []
  }
 ],
 "metadata": {
  "kernelspec": {
   "display_name": "Python 3",
   "language": "python",
   "name": "python3"
  },
  "language_info": {
   "codemirror_mode": {
    "name": "ipython",
    "version": 3
   },
   "file_extension": ".py",
   "mimetype": "text/x-python",
   "name": "python",
   "nbconvert_exporter": "python",
   "pygments_lexer": "ipython3",
   "version": "3.8.5"
  }
 },
 "nbformat": 4,
 "nbformat_minor": 4
}
